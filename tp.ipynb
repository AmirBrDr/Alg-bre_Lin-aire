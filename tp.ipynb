{
 "cells": [
  {
   "cell_type": "markdown",
   "metadata": {},
   "source": [
    "# TP3 --- DÉTERMINANTS\n",
    "\n",
    "[Python 3 -- testé avec Python 3.8.5]\n",
    "\n",
    "Le but de ce TP est de calculer le déterminant de matrices carrées de taille quelconque, à l'aide d'opérations simples sur les coefficients.\n",
    "\n",
    "Chargement des paquets utiles :"
   ]
  },
  {
   "cell_type": "code",
   "execution_count": 2,
   "metadata": {},
   "outputs": [],
   "source": [
    "import numpy as np"
   ]
  },
  {
   "cell_type": "markdown",
   "metadata": {},
   "source": [
    "## 0. Commandes utiles\n",
    "\n",
    "Voici quelques commandes utiles dont vous pourrez avoir besoin dans ce TP. La commande `np.array` transforme une liste de listes en une matrice. Ainsi, une matrice $M = (a_{i, j})_{\\substack{0 \\leqslant i < n \\\\ 0 \\leqslant j < p}} \\in \\mathcal{M}_{n, p}(\\mathbb{R})$ sera représentée par un tableau `M` (de type `ndarray`) grâce à la commande :\n",
    "```\n",
    "M = np.array([[a_00, ..., a_0(p-1)], ..., [a_(n-1)0, ..., a_(n-1)(p-1)]], dtype=float)\n",
    "```\n",
    "\n",
    "**Attention** : Pour suivre la convention de Python, nous numéroterons les coefficients à partir de $0$.\n",
    "\n",
    "**Attention** : Pour travailler avec des réels, nous précisons bien l'option `dtype=float`.\n",
    "\n",
    "Alors :\n",
    "- `np.shape(M)` renvoie la taille $(n, p)$ de $M$ ;\n",
    "- `M[i, j]` renvoie le coefficient $a_{i, j}$ ;\n",
    "- `M[i, :]` renvoie la ligne $i$ de $M$ ;\n",
    "- `M[:, j]` renvoie la colonne $j$ de $M$ ;\n",
    "- `M[i1:i2, j1:j2]` renvoie la matrice extraite $(a_{i, j})_{\\substack{i_1 \\leqslant i < i_2 \\\\ j_1 \\leqslant j < j_2}}$ ;\n",
    "- `np.delete(M, i, axis=0)` renvoie la matrice obtenue à partir de $M$ en supprimant la ligne $i$ ;\n",
    "- `np.delete(M, j, axis=1)` renvoie la matrice obtenue à partir de $M$ en supprimant la colonne $j$.\n",
    "\n",
    "Observer et comprendre les commandes ci-dessous."
   ]
  },
  {
   "cell_type": "code",
   "execution_count": 3,
   "metadata": {},
   "outputs": [
    {
     "name": "stdout",
     "output_type": "stream",
     "text": [
      "M =\n",
      " [[ 1.  2.  3.  4.]\n",
      " [ 5.  6.  7.  8.]\n",
      " [ 9. 10. 11. 12.]]\n",
      "np.shape(M) = (3, 4)\n",
      "M[0, 2] =\n",
      " 3.0\n",
      "M[0, :] =\n",
      " [1. 2. 3. 4.]\n",
      "M[:, 1] =\n",
      " [ 2.  6. 10.]\n",
      "M[1:3, 2:4] =\n",
      " [[ 7.  8.]\n",
      " [11. 12.]]\n"
     ]
    }
   ],
   "source": [
    "M = np.array([[1, 2, 3, 4], [5, 6, 7, 8], [9, 10, 11, 12]], dtype=float)\n",
    "print(\"M =\\n\", M)\n",
    "print(\"np.shape(M) =\", np.shape(M))\n",
    "print(\"M[0, 2] =\\n\", M[0, 2])\n",
    "print(\"M[0, :] =\\n\", M[0, :])\n",
    "print(\"M[:, 1] =\\n\", M[:, 1])\n",
    "print(\"M[1:3, 2:4] =\\n\", M[1:3, 2:4])"
   ]
  },
  {
   "cell_type": "markdown",
   "metadata": {},
   "source": [
    "On peut ainsi multiplier une ligne d'une matrice par un nombre, ou remplacer une ligne par elle-même plus (un multiple d')une autre :"
   ]
  },
  {
   "cell_type": "code",
   "execution_count": 4,
   "metadata": {},
   "outputs": [
    {
     "name": "stdout",
     "output_type": "stream",
     "text": [
      "[[ 1.  2.  3.  4.]\n",
      " [ 5.  6.  7.  8.]\n",
      " [ 9. 10. 11. 12.]]\n",
      "[[ 4.  8. 12. 16.]\n",
      " [ 5.  6.  7.  8.]\n",
      " [ 9. 10. 11. 12.]]\n",
      "[[ 4.  8. 12. 16.]\n",
      " [14. 16. 18. 20.]\n",
      " [ 9. 10. 11. 12.]]\n",
      "[[  4.   8.  12.  16.]\n",
      " [ 14.  16.  18.  20.]\n",
      " [  1.  -6. -13. -20.]]\n"
     ]
    }
   ],
   "source": [
    "M = np.array([[1, 2, 3, 4], [5, 6, 7, 8], [9, 10, 11, 12]], dtype=float)\n",
    "print(M)\n",
    "\n",
    "M[0, :] = 4 * M[0, :]\n",
    "print(M)\n",
    "\n",
    "M[1, :] = M[1, :] + M[2, :]\n",
    "print(M)\n",
    "\n",
    "M[2, :] = M[2, :] - 2 * M[0, :]\n",
    "print(M)"
   ]
  },
  {
   "cell_type": "markdown",
   "metadata": {},
   "source": [
    "**Attention** : Quand on affecte une sous-matrice à une nouvelle matrice, l'espace mémoire n'est pas dupliqué. Pour dupliquer l'expace mémoire il faut créer une nouvelle matrice avec `np.array`. Comparer les deux blocs suivants."
   ]
  },
  {
   "cell_type": "code",
   "execution_count": 5,
   "metadata": {},
   "outputs": [
    {
     "name": "stdout",
     "output_type": "stream",
     "text": [
      "M =\n",
      " [[ 1.  2.  3.  4.]\n",
      " [ 5.  6.  7.  8.]\n",
      " [ 9. 10. 11. 12.]]\n",
      "L_1 =\n",
      " [5. 0. 7. 8.]\n",
      "M =\n",
      " [[ 1.  2.  3.  4.]\n",
      " [ 5.  0.  7.  8.]\n",
      " [ 9. 10. 11. 12.]]\n"
     ]
    }
   ],
   "source": [
    "M = np.array([[1, 2, 3, 4], [5, 6, 7, 8], [9, 10, 11, 12]], dtype=float)\n",
    "\n",
    "print(\"M =\\n\", M)\n",
    "\n",
    "L_1 = M[1, :]    # L_1 pointe vers la ligne 1 de la matrice M.\n",
    "L_1[1] = 0\n",
    "\n",
    "print(\"L_1 =\\n\", L_1)\n",
    "print(\"M =\\n\", M)"
   ]
  },
  {
   "cell_type": "code",
   "execution_count": 6,
   "metadata": {},
   "outputs": [
    {
     "name": "stdout",
     "output_type": "stream",
     "text": [
      "M =\n",
      " [[ 1.  2.  3.  4.]\n",
      " [ 5.  6.  7.  8.]\n",
      " [ 9. 10. 11. 12.]]\n",
      "L_1 =\n",
      " [5. 0. 7. 8.]\n",
      "M =\n",
      " [[ 1.  2.  3.  4.]\n",
      " [ 5.  6.  7.  8.]\n",
      " [ 9. 10. 11. 12.]]\n"
     ]
    }
   ],
   "source": [
    "M = np.array([[1, 2, 3, 4], [5, 6, 7, 8], [9, 10, 11, 12]], dtype=float)\n",
    "\n",
    "print(\"M =\\n\", M)\n",
    "\n",
    "L_1 = np.array(M[1, :])    # L_1 est une nouvelle matrice, indépendante de M.\n",
    "L_1[1] = 0\n",
    "\n",
    "print(\"L_1 =\\n\", L_1)\n",
    "print(\"M =\\n\", M)"
   ]
  },
  {
   "cell_type": "markdown",
   "metadata": {},
   "source": [
    "Enfin, pour supprimer une rangée (ligne ou colonne) dans une matrice, on utilise la fonction `np.delete`. Observer et comprendre les commandes ci-dessous."
   ]
  },
  {
   "cell_type": "code",
   "execution_count": 7,
   "metadata": {},
   "outputs": [
    {
     "name": "stdout",
     "output_type": "stream",
     "text": [
      "M =\n",
      " [[ 1.  2.  3.  4.]\n",
      " [ 5.  6.  7.  8.]\n",
      " [ 9. 10. 11. 12.]]\n",
      "np.delete(M, 1, axis=0) =\n",
      " [[ 1.  2.  3.  4.]\n",
      " [ 9. 10. 11. 12.]]\n",
      "np.delete(M, 1, axis=1) =\n",
      " [[ 1.  3.  4.]\n",
      " [ 5.  7.  8.]\n",
      " [ 9. 11. 12.]]\n"
     ]
    }
   ],
   "source": [
    "M = np.array([[1, 2, 3, 4], [5, 6, 7, 8], [9, 10, 11, 12]], dtype=float)\n",
    "print(\"M =\\n\", M)\n",
    "\n",
    "print(\"np.delete(M, 1, axis=0) =\\n\", np.delete(M, 1, axis=0))\n",
    "print(\"np.delete(M, 1, axis=1) =\\n\", np.delete(M, 1, axis=1))"
   ]
  },
  {
   "cell_type": "markdown",
   "metadata": {},
   "source": [
    "## 1. Calcul du déterminant par développement suivant une ligne\n",
    "\n",
    "### 1.1. Déterminants d'ordre 2\n",
    "\n",
    "Écrire une fonction `det_2(A)` qui prend en entrée une matrice carrée `A` de taille $2$ et qui renvoie son déterminant."
   ]
  },
  {
   "cell_type": "code",
   "execution_count": 8,
   "metadata": {},
   "outputs": [],
   "source": [
    "def det_2(A):\n",
    "    # Solution\n",
    "    determinant = A[0, 0] * A[1, 1] - A[0, 1] * A[1, 0]\n",
    "    return determinant\n",
    "    # Fin solution"
   ]
  },
  {
   "cell_type": "markdown",
   "metadata": {},
   "source": [
    "Tester la fonction `det_2(A)` avec les matrices\n",
    "$$\n",
    "B_1 = \\begin{pmatrix}\n",
    "1 & 2 \\\\\n",
    "4 & 3\n",
    "\\end{pmatrix}\n",
    "\\quad \\text{et} \\quad\n",
    "B_2 = \\begin{pmatrix}\n",
    "6 & 3 \\\\\n",
    "2 & 1\n",
    "\\end{pmatrix} .\n",
    "$$"
   ]
  },
  {
   "cell_type": "code",
   "execution_count": 10,
   "metadata": {},
   "outputs": [
    {
     "name": "stdout",
     "output_type": "stream",
     "text": [
      "-5.0 0.0\n"
     ]
    }
   ],
   "source": [
    "# Solution\n",
    "B1 = np.array([[1, 2], [4, 3]], dtype=float)\n",
    "B2 = np.array([[6, 3], [2, 1]], dtype=float)\n",
    "\n",
    "# Calcul des déterminants\n",
    "det_B1 = det_2(B1)\n",
    "det_B2 = det_2(B2)\n",
    "\n",
    "print(det_B1, det_B2)\n",
    "# Fin solution"
   ]
  },
  {
   "cell_type": "markdown",
   "metadata": {},
   "source": [
    "### 1.2. Déterminants d'ordre 3\n",
    "\n",
    "Il est possible de calculer le déterminant d'une matrice de taille $3$ de plusieurs façons. Nous nous intéressons à celle qui utilise le développement suivant la ligne $0$.\n",
    "\n",
    "On donne la fonction `extr_3_2(A, i, j)` qui prend en entrée :\n",
    "- une matrice carrée `A` de taille $3$,\n",
    "- un numéro de ligne `i`\n",
    "- et un numéro de colonne `j`,\n",
    "\n",
    "et qui renvoie la matrice obtenue à partir de `A` en supprimant la ligne `i` et la colonne `j` (matrice extraite)."
   ]
  },
  {
   "cell_type": "code",
   "execution_count": 12,
   "metadata": {},
   "outputs": [],
   "source": [
    "def extr_3_2(A, i, j):\n",
    "    A_extraite = np.array(A)    # On copie la matrice A pour ne pas modifier la matrice A elle-même.\n",
    "    A_extraite = np.delete(A_extraite, i, axis=0)\n",
    "    A_extraite = np.delete(A_extraite, j, axis=1)\n",
    "    return A_extraite"
   ]
  },
  {
   "cell_type": "markdown",
   "metadata": {},
   "source": [
    "Tester la fonction `extr_3_2` avec la matrice\n",
    "$$\n",
    "A_1 = \\begin{pmatrix}\n",
    "0 & -1 & 4 \\\\\n",
    "5 & 0 & 3 \\\\\n",
    "6 & -6 & 1\n",
    "\\end{pmatrix}\n",
    "$$\n",
    "et\n",
    "- en supprimant la ligne $1$ et la colonne $0$ ;\n",
    "- en supprimant la ligne $1$ et la colonne $2$."
   ]
  },
  {
   "cell_type": "code",
   "execution_count": 13,
   "metadata": {},
   "outputs": [
    {
     "name": "stdout",
     "output_type": "stream",
     "text": [
      "[[-1.  4.]\n",
      " [-6.  1.]]\n",
      "[[ 0. -1.]\n",
      " [ 6. -6.]]\n"
     ]
    }
   ],
   "source": [
    "A_1 = np.array([[0, -1, 4], [5, 0, 3], [6, -6, 1]], dtype=float)\n",
    "\n",
    "# Solution\n",
    "print(extr_3_2(A_1,1,0))\n",
    "print(extr_3_2(A_1,1,2))\n",
    "\n",
    "# Fin solution"
   ]
  },
  {
   "cell_type": "markdown",
   "metadata": {},
   "source": [
    "Écrire une fontion `det_3(A)` qui prend en entrée une matrice carrée `A` de taille $3$ et qui calcule son déterminant en le développant suivant la première ligne et en faisant appel à `extr_3_2` et à `det_2`."
   ]
  },
  {
   "cell_type": "code",
   "execution_count": 14,
   "metadata": {},
   "outputs": [],
   "source": [
    "def det_3(A):\n",
    "    # Solution\n",
    "    matrice1 = extr_3_2(A,0,0)\n",
    "    matrice2 = extr_3_2(A,0,1)\n",
    "    matrice3 = extr_3_2(A,0,2)\n",
    "    return det_2(matrice1) - det_2(matrice2) + det_2(matrice3)\n",
    "    # Fin solution"
   ]
  },
  {
   "cell_type": "markdown",
   "metadata": {},
   "source": [
    "Tester la fonction `det_3(A)` sur les matrices $A_1$ (définie ci-dessus) et\n",
    "$$\n",
    "A_2 = \\begin{pmatrix}\n",
    "1 & 4 & -2 \\\\\n",
    "1 & -2 & 4 \\\\\n",
    "5 & 7 & 3\n",
    "\\end{pmatrix} .\n",
    "$$"
   ]
  },
  {
   "cell_type": "code",
   "execution_count": 15,
   "metadata": {
    "scrolled": true
   },
   "outputs": [
    {
     "name": "stdout",
     "output_type": "stream",
     "text": [
      "det(A_1) = 1.0\n",
      "det(A_2) = 0.0\n"
     ]
    }
   ],
   "source": [
    "A_1 = np.array([[0, -1, 4], [5, 0, 3], [6, -6, 1]], dtype=float)\n",
    "A_2 = np.array([[1, 4, -2], [1, -2, 4], [5, 7, 3]], dtype=float)\n",
    "\n",
    "print(\"det(A_1) =\", det_3(A_1))\n",
    "print(\"det(A_2) =\", det_3(A_2))"
   ]
  },
  {
   "cell_type": "markdown",
   "metadata": {},
   "source": [
    "### 1.3. Déterminants d'ordre quelconque\n",
    "\n",
    "On donne ci-dessous la fonction `determinant(A)` qui prend en entrée une matrice carrée `A` de taille quelconque et renvoie son déterminant en le développant suivant la première ligne. On notera qu'on fait appel, à l'intérieur du code, à la fonction `determinant` elle-même (on parle de fonction *récursive*)."
   ]
  },
  {
   "cell_type": "code",
   "execution_count": 16,
   "metadata": {},
   "outputs": [],
   "source": [
    "def determinant(A):\n",
    "    (n, p) = np.shape(A)    # On récupère ainsi la taille (n, p) de la matrice A.\n",
    "    \n",
    "    if n == 1:\n",
    "        return A[0, 0]\n",
    "    \n",
    "    else:\n",
    "        resultat = 0\n",
    "        A_1 = np.array(A)\n",
    "        A_1 = np.delete(A_1, 0, axis=0)\n",
    "        \n",
    "        for j in range(n):\n",
    "            A_2 = np.delete(A_1, j, axis=1)\n",
    "            resultat += (-1)**j * A[0, j] * determinant(A_2)\n",
    "        \n",
    "        return resultat"
   ]
  },
  {
   "cell_type": "markdown",
   "metadata": {},
   "source": [
    "Tester la fonction `determinant(A)` sur les matrices $A_1$, $A_2$ (définies ci-dessus),\n",
    "$$\n",
    "A_3 = \\begin{pmatrix}\n",
    "1 & 4 & 7 & 10 \\\\\n",
    "-2 & 3.3 & -14 & 0 \\\\\n",
    "1 & 1.32 & 7 & 0.01 \\\\\n",
    "0 & -8 & 0 & 41\n",
    "\\end{pmatrix}\n",
    "\\quad \\text{et} \\quad\n",
    "A_4 = \\begin{pmatrix}\n",
    "1 & 5 & 8 & 1.5 & 7 & -8 \\\\\n",
    "0 & 7 & 0 & -2.2 & 4 & 0 \\\\\n",
    "0 & 0 & -3 & 1 & -0.4 & 5 \\\\\n",
    "0 & 0 & 0 & 2 & 4 & 1.1 \\\\\n",
    "0 & 0 & 0 & 0 & 5 & 2 \\\\\n",
    "0 & 0 & 0 & 0 & 0 & 1.5\n",
    "\\end{pmatrix} .\n",
    "$$"
   ]
  },
  {
   "cell_type": "code",
   "execution_count": 17,
   "metadata": {},
   "outputs": [
    {
     "name": "stdout",
     "output_type": "stream",
     "text": [
      "det(A_1) = -133.0\n",
      "det(A_2) = 0.0\n",
      "det(A_3) = 2.2737367544323206e-13\n",
      "det(A_4) = -315.0\n"
     ]
    }
   ],
   "source": [
    "A_1 = np.array([[0, -1, 4], [5, 0, 3], [6, -6, 1]], dtype=float)\n",
    "A_2 = np.array([[1, 4, -2], [1, -2, 4], [5, 7, 3]], dtype=float)\n",
    "A_3 = np.array([[1, 4, 7, 10],[-2, 3.3, -14, 0], [1, 1.32, 7, 0.01], [0, -8, 0, 41]], dtype=float)\n",
    "A_4 = np.array([[1, 5, 8, 1.5, 7, -8],\n",
    "              [0, 7, 0, -2.2, 4, 0],\n",
    "              [0, 0, -3, 1, -0.4, 5],\n",
    "              [0, 0, 0, 2, 4, 11],\n",
    "              [0, 0, 0, 0, 5, 2],\n",
    "              [0, 0, 0, 0, 0, 1.5]], dtype=float)\n",
    "\n",
    "\n",
    "print(\"det(A_1) =\", determinant(A_1))\n",
    "print(\"det(A_2) =\", determinant(A_2))\n",
    "print(\"det(A_3) =\", determinant(A_3))\n",
    "print(\"det(A_4) =\", determinant(A_4))"
   ]
  },
  {
   "cell_type": "markdown",
   "metadata": {},
   "source": [
    "## 2. Amélioration : calcul du déterminant à l'aide de l'algorithme du pivot de Gauss\n",
    "\n",
    "### 2.1. Un premier exemple\n",
    "\n",
    "On souhaite calculer le déterminant suivant :\n",
    "$$\n",
    "\\Delta\n",
    " = \\begin{vmatrix}\n",
    "2 & 4 & -1 \\\\\n",
    "4 & 0 & -2 \\\\\n",
    "1 & 2 & 1\n",
    "\\end{vmatrix} .\n",
    "$$\n",
    "\n",
    "Définir la matrice `A` dont on va calculer le déterminant."
   ]
  },
  {
   "cell_type": "code",
   "execution_count": 28,
   "metadata": {},
   "outputs": [
    {
     "name": "stdout",
     "output_type": "stream",
     "text": [
      "[[ 2.  4. -1.]\n",
      " [ 4.  0. -2.]\n",
      " [ 1.  2.  1.]]\n"
     ]
    }
   ],
   "source": [
    "# Solution\n",
    "A = np.array([[2, 4, -1], [4, 0, -2], [1, 2, 1]], dtype=float)\n",
    "print(A)\n",
    "# Fin solution"
   ]
  },
  {
   "cell_type": "markdown",
   "metadata": {},
   "source": [
    "On va calculer le déterminant $\\Delta$ en utilisant la méthode du pivot de Gauss pour se ramener à un déterminant triangulaire supérieur. Les seules opérations élémentaires autorisées sont :\n",
    "- les **permutations** de lignes $L_i \\leftrightarrow L_j$ ($i \\neq j$) ;\n",
    "- les **dilatations** de lignes $L_i \\leftarrow \\alpha L_i$ ($\\alpha \\in \\mathbb{R} \\setminus \\{ 0 \\}$) ;\n",
    "- et les **transvections** sur les lignes $L_i \\leftarrow L_i + \\beta L_j$ ($i \\neq j$ et $\\beta \\in \\mathbb{R}$).\n",
    "\n",
    "Comme ces opérations changent la valeur du déterminant, on introduira en plus de la matrice `A` une variable `resultat` : on partira de `resultat = 1` et, à chaque opération élémentaire effectuée, on actualisera la valeur de `resultat` de sorte que le produit du déterminant de la matrice obtenue `A_modifiee` et de `resultat` soit toujours égal à $\\Delta$.\n",
    "\n",
    "Effectuer sur la matrice `A` les opérations élémentaires correspondant à l'algorithme du pivot de Gauss et qui aboutissent à une matrice de la forme\n",
    "$$\n",
    "A_{\\text{triangulaire}} =\n",
    "\\begin{pmatrix}\n",
    "1 & * & * \\\\\n",
    "0 & 1 & * \\\\\n",
    "0 & 0 & 1\n",
    "\\end{pmatrix} ,\n",
    "$$\n",
    "sans oublier d'actualiser la valeur de `resultat`."
   ]
  },
  {
   "cell_type": "code",
   "execution_count": 29,
   "metadata": {},
   "outputs": [
    {
     "name": "stdout",
     "output_type": "stream",
     "text": [
      "[[ 1.   2.  -0.5]\n",
      " [-0.   1.  -0. ]\n",
      " [ 0.   0.   1. ]] -24.0\n"
     ]
    }
   ],
   "source": [
    "A_modifiee = np.array(A)\n",
    "resultat = 1\n",
    "\n",
    "pivot = A_modifiee[0, 0]\n",
    "A_modifiee[0, :] = A_modifiee[0, :] / pivot\n",
    "resultat *= pivot  \n",
    "\n",
    "for i in range(1, 3):\n",
    "    facteur = -A_modifiee[i, 0]\n",
    "    A_modifiee[i, :] += facteur * A_modifiee[0, :]\n",
    "\n",
    "pivot = A_modifiee[1, 1]\n",
    "A_modifiee[1, :] = A_modifiee[1, :] / pivot\n",
    "resultat *= pivot  \n",
    "\n",
    "facteur = -A_modifiee[2, 1]\n",
    "A_modifiee[2, :] += facteur * A_modifiee[1, :]\n",
    "\n",
    "pivot = A_modifiee[2, 2]\n",
    "A_modifiee[2, :] = A_modifiee[2, :] / pivot\n",
    "resultat *= pivot  \n",
    "\n",
    "print(A_modifiee, resultat)\n",
    "# Fin solution"
   ]
  },
  {
   "cell_type": "markdown",
   "metadata": {},
   "source": [
    "On peut vérifier le résultat obtenu à l'aide de la fonction `np.linalg.det` :"
   ]
  },
  {
   "cell_type": "code",
   "execution_count": 30,
   "metadata": {},
   "outputs": [
    {
     "data": {
      "text/plain": [
       "np.float64(-23.999999999999993)"
      ]
     },
     "execution_count": 30,
     "metadata": {},
     "output_type": "execute_result"
    }
   ],
   "source": [
    "np.linalg.det(A)"
   ]
  },
  {
   "cell_type": "markdown",
   "metadata": {},
   "source": [
    "### 2.2 Opérations élémentaires\n",
    "\n",
    "On définit la fonction `Permutation(A, resultat, i, j)` qui renvoie le couple `(A_modifiee, resultat_modifie)` où :\n",
    "- `A_modifiee` est la matrice obtenue à partir d'une matrice `A` en échangeant les lignes `i` et `j` ;\n",
    "- `resultat_modifie` est le nombre tel que le produit du déterminant de `A` et de `resultat` soit égal au produit du déterminant de `A_modifiee` et de `resultat_modifie`."
   ]
  },
  {
   "cell_type": "code",
   "execution_count": 32,
   "metadata": {},
   "outputs": [],
   "source": [
    "def Permutation(A, resultat, i, j):\n",
    "    A_modifiee = np.array(A)    # On copie la matrice A pour que la matrice A elle-même ne soit pas modifiée.\n",
    "    \n",
    "    if i == j:\n",
    "        return (A_modifiee, resultat)    # Cas où on ne permute rien du tout...\n",
    "    \n",
    "    else:\n",
    "        A_modifiee[i, :] = A[j, :]\n",
    "        A_modifiee[j, :] = A[i, :]\n",
    "        return (A_modifiee, -resultat)    # Quand on échange deux lignes, le déterminant change de signe."
   ]
  },
  {
   "cell_type": "markdown",
   "metadata": {},
   "source": [
    "Définir de même des fonctions `Dilatation(A, resultat, i, alpha)` et `Transvection(A, resultat, i, j, beta)` qui prennent en argument une matrice `A`, un nombre `resultat` et les paramètres d'une opération élémentaire sur les lignes (définie dans la section 2), et renvoient le couple `(A_modifiee, resultat_modifie)` où `A_modifiee` est la matrice modifiée en conséquence et `resultat_modifie` la mise à jour de `resultat` pour que le produit du déterminant de `A` et de `resultat` soit égal au produit du déterminant de `A_modifiee` et de `resultat_modifie`."
   ]
  },
  {
   "cell_type": "code",
   "execution_count": 33,
   "metadata": {},
   "outputs": [],
   "source": [
    "def Dilatation(A, resultat, i, alpha):\n",
    "    # Solution\n",
    "    A_modifiee = np.array(A)\n",
    "    A_modifiee[i, :] *= alpha\n",
    "    resultat_modifie = resultat * alpha\n",
    "    return (A_modifiee, resultat_modifie)\n",
    "\n",
    "    # Fin solution\n",
    "\n",
    "def Transvection(A, resultat, i, j, beta):\n",
    "    # Solution\n",
    "    A_modifiee = np.array(A)\n",
    "    A_modifiee[i, :] += beta * A[j, :]\n",
    "    resultat_modifie = resultat\n",
    "    return (A_modifiee, resultat_modifie)\n",
    "    # Fin solution"
   ]
  },
  {
   "cell_type": "markdown",
   "metadata": {},
   "source": [
    "Tester les fonctions `Permutation(A, resultat, i, j)`, `Dilatation(A, resultat, i, alpha)` et `Transvection(A, resultat, i, j, beta)` sur la matrice\n",
    "$$\n",
    "A_3 = \\begin{pmatrix}\n",
    "1 & 4 & 7 & 10 \\\\\n",
    "-2 & 3.3 & -14 & 0 \\\\\n",
    "1 & 1.32 & 7 & 0.01 \\\\\n",
    "0 & -8 & 0 & 41\n",
    "\\end{pmatrix} .\n",
    "$$"
   ]
  },
  {
   "cell_type": "code",
   "execution_count": 37,
   "metadata": {},
   "outputs": [
    {
     "name": "stdout",
     "output_type": "stream",
     "text": [
      "A_3 =\n",
      " [[ 1.00e+00  4.00e+00  7.00e+00  1.00e+01]\n",
      " [-2.00e+00  3.30e+00 -1.40e+01  0.00e+00]\n",
      " [ 1.00e+00  1.32e+00  7.00e+00  1.00e-02]\n",
      " [ 0.00e+00 -8.00e+00  0.00e+00  4.10e+01]]\n",
      "[[-2.00e+00  3.30e+00 -1.40e+01  0.00e+00]\n",
      " [ 1.00e+00  4.00e+00  7.00e+00  1.00e+01]\n",
      " [ 1.00e+00  1.32e+00  7.00e+00  1.00e-02]\n",
      " [ 0.00e+00 -8.00e+00  0.00e+00  4.10e+01]]\n",
      "-1\n",
      "[[ 1.0e+00  4.0e+00  7.0e+00  1.0e+01]\n",
      " [-2.0e+00  3.3e+00 -1.4e+01  0.0e+00]\n",
      " [ 5.0e-01  6.6e-01  3.5e+00  5.0e-03]\n",
      " [ 0.0e+00 -8.0e+00  0.0e+00  4.1e+01]]\n",
      "0.5\n",
      "[[ 1.00e+00  4.00e+00  7.00e+00  1.00e+01]\n",
      " [-2.00e+00  3.30e+00 -1.40e+01  0.00e+00]\n",
      " [ 1.00e+00  1.32e+00  7.00e+00  1.00e-02]\n",
      " [ 3.00e+00  4.00e+00  2.10e+01  7.10e+01]]\n",
      "1\n"
     ]
    }
   ],
   "source": [
    "A_3 = np.array([[1, 4, 7, 10],[-2, 3.3, -14, 0], [1, 1.32, 7, 0.01], [0, -8, 0, 41]], dtype=float)\n",
    "print(\"A_3 =\\n\", A_3)\n",
    "\n",
    "\n",
    "# Solution\n",
    "resultat = 1\n",
    "(A_perm, resultat_perm) = Permutation(A_3, resultat, 0, 1)\n",
    "(A_dil, resultat_dil) = Dilatation(A_3, resultat, 2, 0.5)\n",
    "(A_trans, resultat_trans) = Transvection(A_3, resultat, 3, 0, 3)\n",
    "\n",
    "print(A_perm)\n",
    "print(resultat_perm)\n",
    "print(A_dil)\n",
    "print(resultat_dil)\n",
    "print(A_trans)\n",
    "print(resultat_trans)\n",
    "# Fin solution"
   ]
  },
  {
   "cell_type": "markdown",
   "metadata": {},
   "source": [
    "Écrire une fonction `SuiteTransvections(A, resultat, beta)` qui prend en argument une matrice carrée `A` à $n$ lignes, un nombre `resultat` et une liste `beta` contenant $n - 1$ scalaires $\\beta_1$, ..., $\\beta_{n-1}$, et qui renvoie le couple `(A_modifiee, resultat_modifie)` où `A_modifiee` est la matrice obtenue en transformant `A` par la suite d'opérations :\n",
    "\\begin{align*}\n",
    "L_1 & \\leftarrow L_1 + \\beta_1 L_0 , \\\\\n",
    "L_2 & \\leftarrow L_2 + \\beta_2 L_0 , \\\\\n",
    "& \\vdots \\\\\n",
    "L_{n-1} & \\leftarrow L_{n-1} + \\beta_{n-1} L_0\n",
    "\\end{align*}\n",
    "et `resultat_modifie` est le nombre tel que le produit du déterminant de `A` et de `resultat` soit égal au produit du déterminant de `A_modifiee` et de `resultat_modifie`."
   ]
  },
  {
   "cell_type": "code",
   "execution_count": 39,
   "metadata": {},
   "outputs": [],
   "source": [
    "def SuiteTransvections(A, resultat, beta):\n",
    "    (n, p) = np.shape(A)    # On récupère ainsi la taille (n, p) de la matrice A.\n",
    "    A_modifiee = np.array(A)    # On copie la matrice A pour que la matrice A elle-même ne soit pas modifiée.\n",
    "    # Solution\n",
    "    for i in range(1, n):\n",
    "        A_modifiee[i, :] += beta[i - 1] * A_modifiee[0, :] \n",
    "    \n",
    "    resultat_modifie = resultat  \n",
    "    return (A_modifiee, resultat_modifie)\n",
    "    # Fin solution"
   ]
  },
  {
   "cell_type": "markdown",
   "metadata": {},
   "source": [
    "Tester la fonction `SuiteTransvections(A, resultat, beta)` sur la matrice $A_3$."
   ]
  },
  {
   "cell_type": "code",
   "execution_count": 40,
   "metadata": {},
   "outputs": [
    {
     "data": {
      "text/plain": [
       "(array([[ 1.  ,  4.  ,  7.  , 10.  ],\n",
       "        [ 0.  , 11.3 ,  0.  , 20.  ],\n",
       "        [ 0.  , -2.68,  0.  , -9.99],\n",
       "        [ 0.  , -8.  ,  0.  , 41.  ]]),\n",
       " 1)"
      ]
     },
     "execution_count": 40,
     "metadata": {},
     "output_type": "execute_result"
    }
   ],
   "source": [
    "SuiteTransvections(A_3, 1, [2, -1, 0])"
   ]
  },
  {
   "cell_type": "markdown",
   "metadata": {},
   "source": [
    "### 2.3. Choix d'un pivot\n",
    "\n",
    "Définir une fonction `ChoixPivot(A, resultat)` qui prend en argument une matrice carrée `A` de taille quelconque et un nombre `resultat` et renvoie un couple `(A_choix, resultat_choix)` où :\n",
    "- `A_choix` est obtenue à partir de `A` en trouvant dans la colonne $0$ de `A` un élément non nul (pivot), puis en permutant et dilatant des lignes de sorte que le pivot soit en ligne $0$ et égal à $1$ ;\n",
    "- `resultat_choix` est le nombre tel que le produit du déterminant de `A` et de `resultat` soit égal au produit du déterminant de `A_choix` et de `resultat_choix`.\n",
    "\n",
    "Si ce n'est pas possible, autrement dit si la colonne $0$ de `A` est nulle, la fonction renvoie le couple `(A, 0)`.\n",
    "\n",
    "Pour trouver un élément non nul, on choisira l'élément de valeur absolue maximale en utilisant les fonctions `abs` et `np.argmax`."
   ]
  },
  {
   "cell_type": "code",
   "execution_count": 49,
   "metadata": {},
   "outputs": [],
   "source": [
    "def ChoixPivot(A, resultat):\n",
    "    i = np.argmax(abs(A[:, 0]))\n",
    "    # Solution\n",
    "    if A[i, 0] == 0:\n",
    "        return (A, 0)\n",
    "\n",
    "    A_modifiee = np.array(A)\n",
    "    resultat_modifie = resultat\n",
    "\n",
    "    if i != 0:\n",
    "        A_modifiee, resultat_modifie = Permutation(A_modifiee, resultat_modifie, 0, i)\n",
    "    \n",
    "    pivot = A_modifiee[0, 0]\n",
    "    A_modifiee, resultat_modifie = Dilatation(A_modifiee, resultat_modifie, 0, 1 / pivot)\n",
    "    \n",
    "    return (A_modifiee, resultat_modifie)\n",
    "    # Fin solution"
   ]
  },
  {
   "cell_type": "markdown",
   "metadata": {},
   "source": [
    "Tester la fonction `ChoixPivot(A, resultat)` sur les matrices suivantes : $A_1$ (définie dans la section 1.2), `A_5 = A` (définie dans la section 2.1),\n",
    "$$\n",
    "A_6 = \\begin{pmatrix}\n",
    "0 & 1 & 0 \\\\\n",
    "0 & 0 & 2 \\\\\n",
    "0 & 3 & -1\n",
    "\\end{pmatrix}\n",
    "$$\n",
    "et `A_7 = np.random.randn(9, 9)` (matrice aléatoire)."
   ]
  },
  {
   "cell_type": "code",
   "execution_count": 50,
   "metadata": {},
   "outputs": [
    {
     "name": "stdout",
     "output_type": "stream",
     "text": [
      "A_1 =\n",
      " [[ 0. -1.  4.]\n",
      " [ 5.  0.  3.]\n",
      " [ 6. -6.  1.]]\n",
      "(A_1_choix, resultat_1_choix) =\n",
      " (array([[ 1.        , -1.        ,  0.16666667],\n",
      "       [ 5.        ,  0.        ,  3.        ],\n",
      "       [ 0.        , -1.        ,  4.        ]]), np.float64(-0.16666666666666666))\n",
      "A_5 =\n",
      " [[ 2.  4. -1.]\n",
      " [ 4.  0. -2.]\n",
      " [ 1.  2.  1.]]\n",
      "(A_5_choix, resultat_5_choix) =\n",
      " (array([[ 1. ,  0. , -0.5],\n",
      "       [ 2. ,  4. , -1. ],\n",
      "       [ 1. ,  2. ,  1. ]]), np.float64(-0.25))\n",
      "A_6 =\n",
      " [[ 0.  1.  0.]\n",
      " [ 0.  0.  2.]\n",
      " [ 0.  3. -1.]]\n",
      "(A_6_choix, resultat_6_choix) =\n",
      " (array([[ 0.,  1.,  0.],\n",
      "       [ 0.,  0.,  2.],\n",
      "       [ 0.,  3., -1.]]), 0)\n",
      "A_7 =\n",
      " [[ 1.68  2.37  0.16  0.82 -0.27 -2.3   1.08 -0.    0.08]\n",
      " [-2.42 -0.88  0.88 -0.58  1.75 -0.75 -0.06 -0.63 -0.13]\n",
      " [ 0.43 -0.7   1.19  0.85 -0.34 -0.02 -0.4  -0.29  0.64]\n",
      " [ 1.04 -0.32  1.61 -0.23 -0.    0.49 -1.38 -0.55 -0.33]\n",
      " [ 0.84 -0.44 -0.59 -1.39 -2.18 -0.69 -0.05 -0.28  1.76]\n",
      " [-0.15  1.31 -0.61 -1.8   0.41  0.33  0.46 -0.07 -0.69]\n",
      " [ 1.14  0.68 -0.46 -0.98 -0.87 -0.51 -0.36  1.07 -0.73]\n",
      " [-1.9   0.69 -1.01  0.6  -0.19 -0.32 -1.22 -1.52  2.05]\n",
      " [-1.59 -0.9  -0.38 -0.61  0.59 -1.82  1.74 -0.42 -2.14]]\n",
      "(A_7_choix, resultat_7_choix) =\n",
      " (array([[ 1.  ,  0.36, -0.36,  0.24, -0.72,  0.31,  0.02,  0.26,  0.05],\n",
      "       [ 1.68,  2.37,  0.16,  0.82, -0.27, -2.3 ,  1.08, -0.  ,  0.08],\n",
      "       [ 0.43, -0.7 ,  1.19,  0.85, -0.34, -0.02, -0.4 , -0.29,  0.64],\n",
      "       [ 1.04, -0.32,  1.61, -0.23, -0.  ,  0.49, -1.38, -0.55, -0.33],\n",
      "       [ 0.84, -0.44, -0.59, -1.39, -2.18, -0.69, -0.05, -0.28,  1.76],\n",
      "       [-0.15,  1.31, -0.61, -1.8 ,  0.41,  0.33,  0.46, -0.07, -0.69],\n",
      "       [ 1.14,  0.68, -0.46, -0.98, -0.87, -0.51, -0.36,  1.07, -0.73],\n",
      "       [-1.9 ,  0.69, -1.01,  0.6 , -0.19, -0.32, -1.22, -1.52,  2.05],\n",
      "       [-1.59, -0.9 , -0.38, -0.61,  0.59, -1.82,  1.74, -0.42, -2.14]]), np.float64(0.41261152635896087))\n"
     ]
    }
   ],
   "source": [
    "# A_1\n",
    "A_1 = np.array([[0, -1, 4], [5, 0, 3], [6, -6, 1]], dtype=float)\n",
    "print(\"A_1 =\\n\", A_1)\n",
    "\n",
    "(A_1_choix, resultat_1_choix) = ChoixPivot(A_1, 1)\n",
    "print(\"(A_1_choix, resultat_1_choix) =\\n\", (A_1_choix, resultat_1_choix))\n",
    "\n",
    "# A_5\n",
    "A_5 = A\n",
    "print(\"A_5 =\\n\", A_5)\n",
    "\n",
    "(A_5_choix, resultat_5_choix) = ChoixPivot(A_5, 1)\n",
    "print(\"(A_5_choix, resultat_5_choix) =\\n\", (A_5_choix, resultat_5_choix))\n",
    "\n",
    "# A_6\n",
    "A_6 = np.array([[0, 1, 0], [0, 0, 2], [0, 3, -1]], dtype=float)\n",
    "print(\"A_6 =\\n\", A_6)\n",
    "\n",
    "(A_6_choix, resultat_6_choix) = ChoixPivot(A_6, 1)\n",
    "print(\"(A_6_choix, resultat_6_choix) =\\n\", (A_6_choix, resultat_6_choix))\n",
    "\n",
    "# A_7\n",
    "A_7 = np.random.randn(9, 9)\n",
    "print(\"A_7 =\\n\", np.round(A_7, 2))    # On arrondit les valeurs seulement pour l'affichage.\n",
    "\n",
    "(A_7_choix, resultat_7_choix) = ChoixPivot(A_7, 1)\n",
    "print(\"(A_7_choix, resultat_7_choix) =\\n\", (np.round(A_7_choix, 2), resultat_7_choix))"
   ]
  },
  {
   "cell_type": "markdown",
   "metadata": {},
   "source": [
    "### 2.4. Élimination à l'aide du pivot\n",
    "\n",
    "On donne la fonction `EliminationPivot(A_choix, resultat_choix)` qui prend en argument une matrice carrée `A_choix` de taille quelconque et un nombre `resultat_choix` obtenus comme sortie de la fonction `ChoixPivot`, autrement dit tels que :\n",
    "- ou bien `resultat_choix` est nul, et dans ce cas `EliminationPivot(A_choix, resultat_choix)` renvoie `(A_choix, resultat_choix)` ;\n",
    "- ou bien le coefficient $(0, 0)$ de `A` est égal à $1$, et dans ce cas `EliminationPivot(A_choix, resultat_choix)` effectue les transvections nécessaires pour annuler tous les autres coefficients de la colonne $0$ de `A_choix`, renvoie la matrice ainsi obtenue et met à jour `resultat` en conséquence."
   ]
  },
  {
   "cell_type": "code",
   "execution_count": 51,
   "metadata": {},
   "outputs": [],
   "source": [
    "def EliminationPivot(A, resultat):\n",
    "    \n",
    "    if resultat == 0:\n",
    "        return (A, 0)\n",
    "    \n",
    "    else:\n",
    "        beta = -A[1:, 0]\n",
    "        return SuiteTransvections(A, resultat, beta)"
   ]
  },
  {
   "cell_type": "markdown",
   "metadata": {},
   "source": [
    "Tester la fonction `EliminationPivot(A, resultat)` sur les couples `(A_1_choix, resultat_1_choix)`, `(A_5_choix, resultat_5_choix)`, `(A_6_choix, resultat_6_choix)` et `(A_7_choix, resultat_7_choix)` ci-dessus."
   ]
  },
  {
   "cell_type": "code",
   "execution_count": 52,
   "metadata": {},
   "outputs": [
    {
     "name": "stdout",
     "output_type": "stream",
     "text": [
      "(A_1_choix, resultat_1_choix) =\n",
      " (array([[ 1.        , -1.        ,  0.16666667],\n",
      "       [ 5.        ,  0.        ,  3.        ],\n",
      "       [ 0.        , -1.        ,  4.        ]]), np.float64(-0.16666666666666666))\n",
      "(A_1_elimination, resultat_1_elimination) =\n",
      " (array([[ 1.        , -1.        ,  0.16666667],\n",
      "       [ 0.        ,  5.        ,  2.16666667],\n",
      "       [ 0.        , -1.        ,  4.        ]]), np.float64(-0.16666666666666666))\n",
      "(A_5_choix, resultat_5_choix) =\n",
      " (array([[ 1. ,  0. , -0.5],\n",
      "       [ 2. ,  4. , -1. ],\n",
      "       [ 1. ,  2. ,  1. ]]), np.float64(-0.25))\n",
      "(A_5_elimination, resultat_5_elimination) =\n",
      " (array([[ 1. ,  0. , -0.5],\n",
      "       [ 0. ,  4. ,  0. ],\n",
      "       [ 0. ,  2. ,  1.5]]), np.float64(-0.25))\n",
      "(A_6_choix, resultat_6_choix) =\n",
      " (array([[ 0.,  1.,  0.],\n",
      "       [ 0.,  0.,  2.],\n",
      "       [ 0.,  3., -1.]]), 0)\n",
      "(A_6_elimination, resultat_6_elimination) =\n",
      " (array([[ 0.,  1.,  0.],\n",
      "       [ 0.,  0.,  2.],\n",
      "       [ 0.,  3., -1.]]), 0)\n",
      "(A_7_choix, resultat_7_choix) =\n",
      " (array([[ 1.  ,  0.36, -0.36,  0.24, -0.72,  0.31,  0.02,  0.26,  0.05],\n",
      "       [ 1.68,  2.37,  0.16,  0.82, -0.27, -2.3 ,  1.08, -0.  ,  0.08],\n",
      "       [ 0.43, -0.7 ,  1.19,  0.85, -0.34, -0.02, -0.4 , -0.29,  0.64],\n",
      "       [ 1.04, -0.32,  1.61, -0.23, -0.  ,  0.49, -1.38, -0.55, -0.33],\n",
      "       [ 0.84, -0.44, -0.59, -1.39, -2.18, -0.69, -0.05, -0.28,  1.76],\n",
      "       [-0.15,  1.31, -0.61, -1.8 ,  0.41,  0.33,  0.46, -0.07, -0.69],\n",
      "       [ 1.14,  0.68, -0.46, -0.98, -0.87, -0.51, -0.36,  1.07, -0.73],\n",
      "       [-1.9 ,  0.69, -1.01,  0.6 , -0.19, -0.32, -1.22, -1.52,  2.05],\n",
      "       [-1.59, -0.9 , -0.38, -0.61,  0.59, -1.82,  1.74, -0.42, -2.14]]), np.float64(0.41261152635896087))\n",
      "(A_7_elimination, resultat_7_elimination) =\n",
      " (array([[ 1.  ,  0.36, -0.36,  0.24, -0.72,  0.31,  0.02,  0.26,  0.05],\n",
      "       [ 0.  ,  1.76,  0.77,  0.42,  0.95, -2.82,  1.05, -0.44, -0.01],\n",
      "       [ 0.  , -0.86,  1.35,  0.75, -0.03, -0.16, -0.41, -0.4 ,  0.62],\n",
      "       [ 0.  , -0.7 ,  1.99, -0.48,  0.75,  0.17, -1.41, -0.82, -0.39],\n",
      "       [ 0.  , -0.74, -0.28, -1.59, -1.58, -0.95, -0.06, -0.5 ,  1.72],\n",
      "       [ 0.  ,  1.37, -0.66, -1.76,  0.3 ,  0.38,  0.46, -0.03, -0.68],\n",
      "       [ 0.  ,  0.26, -0.04, -1.25, -0.05, -0.86, -0.39,  0.77, -0.79],\n",
      "       [ 0.  ,  1.38, -1.7 ,  1.06, -1.56,  0.27, -1.17, -1.03,  2.15],\n",
      "       [ 0.  , -0.33, -0.96, -0.23, -0.56, -1.33,  1.78, -0.  , -2.06]]), np.float64(0.41261152635896087))\n"
     ]
    }
   ],
   "source": [
    "print(\"(A_1_choix, resultat_1_choix) =\\n\", (A_1_choix, resultat_1_choix))\n",
    "(A_1_elimination, resultat_1_elimination) = EliminationPivot(A_1_choix, resultat_1_choix)\n",
    "print(\"(A_1_elimination, resultat_1_elimination) =\\n\", (A_1_elimination, resultat_1_elimination))\n",
    "\n",
    "print(\"(A_5_choix, resultat_5_choix) =\\n\", (A_5_choix, resultat_5_choix))\n",
    "(A_5_elimination, resultat_5_elimination) = EliminationPivot(A_5_choix, resultat_5_choix)\n",
    "print(\"(A_5_elimination, resultat_5_elimination) =\\n\", (A_5_elimination, resultat_5_elimination))\n",
    "\n",
    "print(\"(A_6_choix, resultat_6_choix) =\\n\", (A_6_choix, resultat_6_choix))\n",
    "(A_6_elimination, resultat_6_elimination) = EliminationPivot(A_6_choix, resultat_6_choix)\n",
    "print(\"(A_6_elimination, resultat_6_elimination) =\\n\", (A_6_elimination, resultat_6_elimination))\n",
    "\n",
    "print(\"(A_7_choix, resultat_7_choix) =\\n\", (np.round(A_7_choix, 2), resultat_7_choix))\n",
    "(A_7_elimination, resultat_7_elimination) = EliminationPivot(A_7_choix, resultat_7_choix)\n",
    "print(\"(A_7_elimination, resultat_7_elimination) =\\n\", (np.round(A_7_elimination, 2), resultat_7_elimination))"
   ]
  },
  {
   "cell_type": "markdown",
   "metadata": {},
   "source": [
    "### 2.5. Calcul du déterminant par échelonnement\n",
    "\n",
    "Définir de manière récursive une fonction `Echelonnement(A, resultat)` qui prend en argument une matrice carrée `A` de taille quelconque et un nombre `resultat`, et renvoie un couple `(A_triangulaire, resultat_triangulaire)` tel que :\n",
    "- ou bien `resultat_triangulaire` est nul ;\n",
    "- ou bien `A_triangulaire` est une matrice triangulaire supérieur avec des 1 sur la diagonale, obtenue par une suite d'opérations élémentaires sur la matrice `A`, et `resultat_triangulaire` est le nombre tel que le produit du déterminant de `A` et de `resultat` soit égal au produit du déterminant de `A_triangulaire` et de `resultat_triangulaire`."
   ]
  },
  {
   "cell_type": "code",
   "execution_count": 73,
   "metadata": {},
   "outputs": [],
   "source": [
    "def Echelonnement(A, resultat):\n",
    "    # Solution    \n",
    "    n, p = np.shape(A)\n",
    "    if n == 1:  \n",
    "        if A[0, 0] == 0:\n",
    "            return (A, 0)\n",
    "        return 1/A[0, 0], resultat * A[0, 0]\n",
    "    \n",
    "    A_pivot, resultat_pivot = ChoixPivot(A, resultat)\n",
    "    (A_triangulaire, resultat_triangulaire_reduit) = ChoixPivot(A,resultat)\n",
    "    (A_triangulaire, resultat_triangulaire_reduit) = EliminationPivot(A_triangulaire,resultat_triangulaire_reduit)\n",
    "    (A_triangulaire[1:,1:], resultat_triangulaire_reduit) = Echelonnement(A_triangulaire[1:,1:], resultat_triangulaire_reduit)\n",
    "    \n",
    "    return A_triangulaire, resultat_triangulaire_reduit\n",
    "    # Fin solution"
   ]
  },
  {
   "cell_type": "markdown",
   "metadata": {},
   "source": [
    "Tester la fonction `Echelonnement(A, resultat)` sur les matrices `A_1`, `A_5`, `A_6` et `A_7` ci-dessus et comparer aux résultats donnés par la fonction `np.linalg.det`."
   ]
  },
  {
   "cell_type": "code",
   "execution_count": 74,
   "metadata": {},
   "outputs": [
    {
     "name": "stdout",
     "output_type": "stream",
     "text": [
      "A_1 =\n",
      " [[ 0. -1.  4.]\n",
      " [ 5.  0.  3.]\n",
      " [ 6. -6.  1.]]\n",
      "(A_1_triangulaire, resultat_1_triangulaire) =\n",
      " (array([[ 1.        , -1.        ,  0.16666667],\n",
      "       [ 0.        ,  1.        ,  0.43333333],\n",
      "       [ 0.        ,  0.        ,  0.22556391]]), np.float64(-0.14777777777777779))\n",
      "Vérification : -133.0\n",
      "A_5 =\n",
      " [[ 2.  4. -1.]\n",
      " [ 4.  0. -2.]\n",
      " [ 1.  2.  1.]]\n",
      "(A_5_triangulaire, resultat_5_triangulaire) =\n",
      " (array([[ 1.        ,  0.        , -0.5       ],\n",
      "       [ 0.        ,  1.        ,  0.        ],\n",
      "       [ 0.        ,  0.        ,  0.66666667]]), np.float64(-0.09375))\n",
      "Vérification : -23.999999999999993\n",
      "A_6 =\n",
      " [[ 0.          1.          0.        ]\n",
      " [ 0.          1.         -0.33333333]\n",
      " [ 0.          0.          2.        ]]\n",
      "(A_6_triangulaire, resultat_6_triangulaire) =\n",
      " (array([[ 0.        ,  1.        ,  0.        ],\n",
      "       [ 0.        ,  1.        , -0.33333333],\n",
      "       [ 0.        ,  0.        ,  0.5       ]]), np.float64(0.0))\n",
      "Vérification : 0.0\n",
      "A_7 =\n",
      " [[ 1.68  2.37  0.16  0.82 -0.27 -2.3   1.08 -0.    0.08]\n",
      " [-2.42 -0.88  0.88 -0.58  1.75 -0.75 -0.06 -0.63 -0.13]\n",
      " [ 0.43 -0.7   1.19  0.85 -0.34 -0.02 -0.4  -0.29  0.64]\n",
      " [ 1.04 -0.32  1.61 -0.23 -0.    0.49 -1.38 -0.55 -0.33]\n",
      " [ 0.84 -0.44 -0.59 -1.39 -2.18 -0.69 -0.05 -0.28  1.76]\n",
      " [-0.15  1.31 -0.61 -1.8   0.41  0.33  0.46 -0.07 -0.69]\n",
      " [ 1.14  0.68 -0.46 -0.98 -0.87 -0.51 -0.36  1.07 -0.73]\n",
      " [-1.9   0.69 -1.01  0.6  -0.19 -0.32 -1.22 -1.52  2.05]\n",
      " [-1.59 -0.9  -0.38 -0.61  0.59 -1.82  1.74 -0.42 -2.14]]\n",
      "(A_7_triangulaire, resultat_7_triangulaire) =\n",
      " (array([[ 1.  ,  0.36, -0.36,  0.24, -0.72,  0.31,  0.02,  0.26,  0.05],\n",
      "       [ 0.  ,  1.  ,  0.44,  0.24,  0.54, -1.6 ,  0.59, -0.25, -0.  ],\n",
      "       [ 0.  , -0.  ,  1.  , -0.32,  1.  , -1.08,  0.86,  0.3 , -0.94],\n",
      "       [ 0.  , -0.  ,  0.  ,  1.  , -0.33, -0.49, -0.3 , -0.28,  0.75],\n",
      "       [ 0.  , -0.  ,  0.  ,  0.  ,  1.  ,  1.65,  0.04,  0.64, -1.66],\n",
      "       [ 0.  ,  0.  ,  0.  ,  0.  ,  0.  ,  1.  , -0.74,  0.04,  0.59],\n",
      "       [ 0.  ,  0.  ,  0.  ,  0.  ,  0.  ,  0.  ,  1.  , -0.74,  0.39],\n",
      "       [ 0.  ,  0.  ,  0.  ,  0.  ,  0.  ,  0.  ,  0.  ,  1.  ,  1.74],\n",
      "       [ 0.  , -0.  ,  0.  ,  0.  ,  0.  ,  0.  ,  0.  ,  0.  , -0.4 ]]), np.float64(-0.012427778907139374))\n",
      "Vérification : -499.88588161786754\n"
     ]
    }
   ],
   "source": [
    "print(\"A_1 =\\n\", A_1)\n",
    "print(\"(A_1_triangulaire, resultat_1_triangulaire) =\\n\", Echelonnement(A_1, 1))\n",
    "print(\"Vérification :\", np.linalg.det(A_1))\n",
    "\n",
    "print(\"A_5 =\\n\", A_5)\n",
    "print(\"(A_5_triangulaire, resultat_5_triangulaire) =\\n\", Echelonnement(A_5, 1))\n",
    "print(\"Vérification :\", np.linalg.det(A_5))\n",
    "\n",
    "print(\"A_6 =\\n\", A_6)\n",
    "print(\"(A_6_triangulaire, resultat_6_triangulaire) =\\n\", Echelonnement(A_6, 1))\n",
    "print(\"Vérification :\", np.linalg.det(A_6))\n",
    "\n",
    "print(\"A_7 =\\n\", np.round(A_7, 2))\n",
    "(A_7_triangulaire, resultat_7_triangulaire) = Echelonnement(A_7, 1)\n",
    "print(\"(A_7_triangulaire, resultat_7_triangulaire) =\\n\", (np.round(A_7_triangulaire, 2), resultat_7_triangulaire))\n",
    "print(\"Vérification :\", np.linalg.det(A_7))"
   ]
  },
  {
   "cell_type": "markdown",
   "metadata": {},
   "source": [
    "## 3. Développement suivant une rangée avec un maximum de zéros\n",
    "\n",
    "En pratique, pour calculer le déterminant d'une matrice carrée de taille quelconque par développement suivant une rangée (ligne ou colonne), il est utile de minimiser le nombre d'opérations en choisissant à chaque fois la rangée (ligne ou colonne) avec le plus de zéros.\n",
    "\n",
    "Écrire une fonction `MaxZeros(A)` qui prend en entrée une matrice carrée `A` de taille quelconque et qui renvoie un couple `(alpha, k)` égal à :\n",
    "- $(0, k)$ si la **ligne** $k$ est la rangée contenant le plus de zéros ;\n",
    "- $(1, k)$ si la **colonne** $k$ est la rangée contenant le plus de zéros.\n",
    "\n",
    "Par exemple, si le résultat est la colonne $4$, la fonction retournera $(1, 4)$. On pourra utiliser la commande suivante : si `L` est une matrice ligne, `np.sum(L == 0)` renvoie le nombre de coefficients nuls dans `L`."
   ]
  },
  {
   "cell_type": "code",
   "execution_count": null,
   "metadata": {},
   "outputs": [],
   "source": [
    "def MaxZeros(A):\n",
    "    # Solution\n",
    "    \n",
    "    # Fin solution"
   ]
  },
  {
   "cell_type": "markdown",
   "metadata": {},
   "source": [
    "Tester la fonction `MaxZeros(A)` sur les matrices $A_1$, $A_2$, $A_3$, $A_5$ (définies ci-dessus) et\n",
    "$$\n",
    "A_8 = \\begin{pmatrix}\n",
    "7 & -1 & 0 \\\\\n",
    "5 & 0 & 3 \\\\\n",
    "6 & -6 & 0\n",
    "\\end{pmatrix} .\n",
    "$$"
   ]
  },
  {
   "cell_type": "code",
   "execution_count": null,
   "metadata": {},
   "outputs": [],
   "source": [
    "A_8 = np.array([[7, -1, 0], [5, 0, 3], [6, -6, 0]], dtype=float)\n",
    "\n",
    "print(MaxZeros(A_1))\n",
    "print(MaxZeros(A_2))\n",
    "print(MaxZeros(A_3))\n",
    "print(MaxZeros(A_5))\n",
    "print(MaxZeros(A_8))"
   ]
  },
  {
   "cell_type": "markdown",
   "metadata": {},
   "source": [
    "Écrire une fonction `DeterminantMaxZeros(A)` qui prend en entrée une matrice carrée `A` de taille quelconque et qui renvoie le déterminant de `A` en développant à chaque fois suivant une rangée (ligne ou colonne) parmi celles qui ont le plus de zéros."
   ]
  },
  {
   "cell_type": "code",
   "execution_count": null,
   "metadata": {},
   "outputs": [],
   "source": [
    "def DeterminantMaxZeros(A):\n",
    "    # Solution\n",
    "    \n",
    "    # Fin solution"
   ]
  },
  {
   "cell_type": "markdown",
   "metadata": {},
   "source": [
    "Testez la fonction `DeterminantMaxZeros(A)` sur les matrices $A_1$, $A_2$, $A_3$ et $A_4$ définies ci-dessus."
   ]
  },
  {
   "cell_type": "code",
   "execution_count": null,
   "metadata": {},
   "outputs": [],
   "source": [
    "A_1 = np.array([[0, -1, 4], [5, 0, 3], [6, -6, 1]], dtype=float)\n",
    "A_2 = np.array([[1, 4, -2], [1, -2, 4], [5, 7, 3]], dtype=float)\n",
    "A_3 = np.array([[1, 4, 7, 10],[-2, 3.3, -14, 0], [1, 1.32, 7, 0.01], [0, -8, 0, 41]], dtype=float)\n",
    "A_4 = np.array([[1, 5, 8, 1.5, 7, -8],\n",
    "              [0, 7, 0, -2.2, 4, 0],\n",
    "              [0, 0, -3, 1, -0.4, 5],\n",
    "              [0, 0, 0, 2, 4, 11],\n",
    "              [0, 0, 0, 0, 5, 2],\n",
    "              [0, 0, 0, 0, 0, 1.5]], dtype=float)\n",
    "\n",
    "print(\"det(A_1) =\", DeterminantMaxZeros(A_1))\n",
    "print(\"det(A_2) =\", DeterminantMaxZeros(A_2))\n",
    "print(\"det(A_3) =\", DeterminantMaxZeros(A_3))\n",
    "print(\"det(A_4) =\", DeterminantMaxZeros(A_4))"
   ]
  },
  {
   "cell_type": "markdown",
   "metadata": {},
   "source": [
    "## 4. Comparaison des différents algorithmes\n",
    "\n",
    "Ci-dessous, on compare les temps de calculs des trois algorithmes implémentés pour le calcul du déterminant, ainsi que celui de la fonction `np.linalg.det`."
   ]
  },
  {
   "cell_type": "code",
   "execution_count": 53,
   "metadata": {},
   "outputs": [
    {
     "name": "stdout",
     "output_type": "stream",
     "text": [
      "Matrice aléatoire quelconque :\n",
      "E =\n",
      " [[0.55 0.92 0.89 0.99 0.72 0.96 0.91 0.09]\n",
      " [0.99 0.7  0.85 0.28 0.64 0.09 0.15 0.53]\n",
      " [0.55 0.73 0.02 0.92 0.31 0.78 0.4  0.24]\n",
      " [0.57 0.59 0.24 0.39 0.51 0.6  0.62 0.67]\n",
      " [0.25 0.34 0.25 0.37 0.05 0.46 0.92 0.49]\n",
      " [0.23 0.89 0.01 0.49 0.3  0.3  0.52 0.17]\n",
      " [0.95 0.22 0.06 0.87 0.83 0.26 0.42 0.07]\n",
      " [0.29 0.45 0.02 0.94 0.5  0.05 0.05 0.35]]\n",
      "0.234587 (durée par développement suivant la première ligne)\n"
     ]
    },
    {
     "ename": "NameError",
     "evalue": "name 'Echelonnement' is not defined",
     "output_type": "error",
     "traceback": [
      "\u001b[0;31m---------------------------------------------------------------------------\u001b[0m",
      "\u001b[0;31mNameError\u001b[0m                                 Traceback (most recent call last)",
      "Cell \u001b[0;32mIn[53], line 15\u001b[0m\n\u001b[1;32m     12\u001b[0m \u001b[38;5;28mprint\u001b[39m(\u001b[38;5;124m\"\u001b[39m\u001b[38;5;132;01m%.6f\u001b[39;00m\u001b[38;5;124m\"\u001b[39m \u001b[38;5;241m%\u001b[39m(fin \u001b[38;5;241m-\u001b[39m debut), \u001b[38;5;124m\"\u001b[39m\u001b[38;5;124m(durée par développement suivant la première ligne)\u001b[39m\u001b[38;5;124m\"\u001b[39m)\n\u001b[1;32m     14\u001b[0m debut \u001b[38;5;241m=\u001b[39m time()\n\u001b[0;32m---> 15\u001b[0m \u001b[43mEchelonnement\u001b[49m(E, \u001b[38;5;241m1\u001b[39m)\n\u001b[1;32m     16\u001b[0m fin \u001b[38;5;241m=\u001b[39m time()\n\u001b[1;32m     17\u001b[0m \u001b[38;5;28mprint\u001b[39m(\u001b[38;5;124m\"\u001b[39m\u001b[38;5;132;01m%.6f\u001b[39;00m\u001b[38;5;124m\"\u001b[39m \u001b[38;5;241m%\u001b[39m(fin \u001b[38;5;241m-\u001b[39m debut), \u001b[38;5;124m\"\u001b[39m\u001b[38;5;124m(durée par l\u001b[39m\u001b[38;5;124m'\u001b[39m\u001b[38;5;124malgorithme du pivot de Gauss)\u001b[39m\u001b[38;5;124m\"\u001b[39m)\n",
      "\u001b[0;31mNameError\u001b[0m: name 'Echelonnement' is not defined"
     ]
    }
   ],
   "source": [
    "from time import time\n",
    "\n",
    "# Matrice aléatoire quelconque\n",
    "\n",
    "print(\"Matrice aléatoire quelconque :\")\n",
    "E = np.random.rand(8, 8)\n",
    "print(\"E =\\n\", np.round(E, 2))\n",
    "\n",
    "debut = time()\n",
    "determinant(E)\n",
    "fin = time()\n",
    "print(\"%.6f\" %(fin - debut), \"(durée par développement suivant la première ligne)\")\n",
    "\n",
    "debut = time()\n",
    "Echelonnement(E, 1)\n",
    "fin = time()\n",
    "print(\"%.6f\" %(fin - debut), \"(durée par l'algorithme du pivot de Gauss)\")\n",
    "\n",
    "debut = time()\n",
    "DeterminantMaxZeros(E)\n",
    "fin = time()\n",
    "print(\"%.6f\" %(fin - debut), \"(durée par développement suivant une rangée contenant un maximum de zéros)\")\n",
    "\n",
    "debut = time()\n",
    "np.linalg.det(E)\n",
    "fin = time()\n",
    "print(\"%.6f\" %(fin - debut), \"(durée par np.linalg.det)\")\n",
    "\n",
    "\n",
    "# Matrice creuse aléatoire\n",
    "\n",
    "print(\"\\nMatrice creuse aléatoire :\")\n",
    "F = np.random.rand(8, 8)\n",
    "F[F < 0.7] = 0\n",
    "print(\"F =\\n\", np.round(F, 2))\n",
    "\n",
    "debut = time()\n",
    "determinant(F)\n",
    "fin = time()\n",
    "print(\"%.6f\" %(fin - debut), \"(durée par développement suivant la première ligne)\")\n",
    "\n",
    "debut = time()\n",
    "Echelonnement(F, 1)\n",
    "fin = time()\n",
    "print(\"%.6f\" %(fin - debut), \"(durée par l'algorithme du pivot de Gauss)\")\n",
    "\n",
    "debut = time()\n",
    "DeterminantMaxZeros(F)\n",
    "fin = time()\n",
    "print(\"%.6f\" %(fin - debut), \"(durée par développement suivant une rangée contenant un maximum de zéros)\")\n",
    "\n",
    "debut = time()\n",
    "np.linalg.det(F)\n",
    "fin = time()\n",
    "print(\"%.6f\" %(fin - debut), \"(durée par np.linalg.det)\")\n",
    "\n",
    "\n",
    "# Matrice triangulaire supérieure aléatoire\n",
    "\n",
    "print(\"\\nMatrice triangulaire supérieure aléatoire :\")\n",
    "G = np.random.rand(8, 8)\n",
    "G = np.triu(G)\n",
    "print(\"G =\\n\", np.round(G, 2))\n",
    "\n",
    "debut = time()\n",
    "determinant(G)\n",
    "fin = time()\n",
    "print(\"%.6f\" %(fin - debut), \"(durée par développement suivant la première ligne)\")\n",
    "\n",
    "debut = time()\n",
    "Echelonnement(G, 1)\n",
    "fin = time()\n",
    "print(\"%.6f\" %(fin - debut), \"(durée par l'algorithme du pivot de Gauss)\")\n",
    "\n",
    "debut = time()\n",
    "DeterminantMaxZeros(G)\n",
    "fin = time()\n",
    "print(\"%.6f\" %(fin - debut), \"(durée par développement suivant une rangée contenant un maximum de zéros)\")\n",
    "\n",
    "debut = time()\n",
    "np.linalg.det(G)\n",
    "fin = time()\n",
    "print(\"%.6f\" %(fin - debut), \"(durée par np.linalg.det)\")"
   ]
  }
 ],
 "metadata": {
  "kernelspec": {
   "display_name": "Python 3",
   "language": "python",
   "name": "python3"
  },
  "language_info": {
   "codemirror_mode": {
    "name": "ipython",
    "version": 3
   },
   "file_extension": ".py",
   "mimetype": "text/x-python",
   "name": "python",
   "nbconvert_exporter": "python",
   "pygments_lexer": "ipython3",
   "version": "3.12.4"
  }
 },
 "nbformat": 4,
 "nbformat_minor": 1
}
